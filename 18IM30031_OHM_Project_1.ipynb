{
 "cells": [
  {
   "cell_type": "code",
   "execution_count": 1,
   "metadata": {},
   "outputs": [],
   "source": [
    "#Name: Priyanshi\n",
    "#Roll Number: 18IM30031"
   ]
  },
  {
   "cell_type": "code",
   "execution_count": 2,
   "metadata": {
    "id": "RrCsBe4bHaC8"
   },
   "outputs": [],
   "source": [
    "import random\n",
    "import numpy as np\n",
    "import pandas as pd\n",
    "from matplotlib import pyplot as plt"
   ]
  },
  {
   "cell_type": "markdown",
   "metadata": {},
   "source": [
    "## Given Data"
   ]
  },
  {
   "cell_type": "code",
   "execution_count": 3,
   "metadata": {
    "id": "8YUJ1SpYHaD3"
   },
   "outputs": [],
   "source": [
    "transac_rate_rT=0.01                             #Transaction Cost Rate\n",
    "depo_intrst_rate_rD=0.009                        #Deposit Interest Rate\n",
    "Deposit=60                                       #Deposit\n",
    "K=0.15                                           #Reserve Ratio\n",
    "L=[10,25,4,11,18,3,17,15,9,10]                   #Loan Size\n",
    "rL=[0.021,0.022,0.021,0.027,0.025,0.026,0.023,0.021,0.028,0.022]    #Loan Interest Rate\n",
    "loss=[0.0002,0.0058,0.0001,0.0003,0.0024,0.0002,0.0058,0.0002,0.001,0.001]   \n",
    "LEN=len(loss)\n"
   ]
  },
  {
   "cell_type": "markdown",
   "metadata": {},
   "source": [
    "# Parameters"
   ]
  },
  {
   "cell_type": "code",
   "execution_count": 4,
   "metadata": {
    "id": "aiF8NaG3HaD1"
   },
   "outputs": [],
   "source": [
    "#SA Parameters\n",
    "Cooling_Factor=0.9\n",
    "Initial_Temperature=800\n",
    "Current_Temp_Iter= 12\n",
    "Rejection_Limit=5     #Rejection Counter Limit in Simulated Annealing\n",
    "\n",
    "#GA Parameters\n",
    "Population_Size=12    \n",
    "GA_max_Iter=15\n",
    "Crosover_Prob=0.8     #CrossOver Probability\n",
    "Mutation_Prob=0.006   #Mutation Probability"
   ]
  },
  {
   "cell_type": "code",
   "execution_count": null,
   "metadata": {
    "id": "oPK3ANtXHaD6"
   },
   "outputs": [],
   "source": []
  },
  {
   "cell_type": "code",
   "execution_count": null,
   "metadata": {
    "id": "qhZvxnM7-Lx7"
   },
   "outputs": [],
   "source": []
  },
  {
   "cell_type": "code",
   "execution_count": 5,
   "metadata": {
    "id": "tPUf2RsjHaE3"
   },
   "outputs": [],
   "source": [
    "#Initialising Population\n",
    "\n",
    "def Population_Initialisation(Population_Size,n,L,K,Deposit):\n",
    "    Population=[]\n",
    "    for i in range(Population_Size):\n",
    "        Chromo=[]\n",
    "        j=0\n",
    "        while j< LEN:\n",
    "            \n",
    "            Chromo.append(random.choice([0,1]))\n",
    "            j+=1\n",
    "        Population.append(Chromo)\n",
    "    \n",
    "    return Population"
   ]
  },
  {
   "cell_type": "code",
   "execution_count": 6,
   "metadata": {
    "id": "o1OHJHlxHaD-"
   },
   "outputs": [],
   "source": [
    "#Calculating Transaction Cost\n",
    "\n",
    "def Insti_TC(K,Deposit,L):\n",
    "    \n",
    "    TC= (1-K)*Deposit-L\n",
    "    return TC"
   ]
  },
  {
   "cell_type": "code",
   "execution_count": 7,
   "metadata": {
    "id": "sXwuYgz7HaD8"
   },
   "outputs": [],
   "source": [
    "#Calculating Loan Revenue Generated\n",
    "#LR=Loan_Revenue\n",
    "def LR_nu(LEN,rL,L,loss,Chromo):\n",
    "    LR=0\n",
    "    for i in range(LEN):\n",
    "        LR+=(rL[i]*L[i]-loss[i])*Chromo[i]\n",
    "    return LR\n",
    "\n",
    "#Calculating cost of Demand Deposit\n",
    "#DD=Demand Deposit\n",
    "def DD_beta( depo_intrst_rate_rD,Deposit):\n",
    "    return  depo_intrst_rate_rD*Deposit"
   ]
  },
  {
   "cell_type": "code",
   "execution_count": 8,
   "metadata": {
    "id": "xWAAJX1hHaEz"
   },
   "outputs": [],
   "source": [
    "#Calculating sum of all individual Loans\n",
    "\n",
    "def Loan_Total_Sum(LEN,Chromo,L):\n",
    "    LoanTotal=0\n",
    "    for i in range(LEN):\n",
    "        LoanTotal+=Chromo[i]*L[i]\n",
    "    \n",
    "    return LoanTotal"
   ]
  },
  {
   "cell_type": "code",
   "execution_count": 9,
   "metadata": {
    "id": "ymFKjRvOHaEB"
   },
   "outputs": [],
   "source": [
    "#Calculating Total Transaction Cost of expected lending Decision\n",
    "#TTC=Total Transaction Cost\n",
    "def TTC_omega(LEN,transac_rate_rT,K,Deposit,L,Chromo):\n",
    "    TTC=0\n",
    "    \n",
    "    for i in range(LEN):\n",
    "        TTC+=  transac_rate_rT*Insti_TC(K,Deposit,L[i])*Chromo[i]\n",
    "    \n",
    "    return TTC\n",
    "\n",
    "#Checking the Constraint [total_loan>(1-K)*D] If satisfied or not and generating new Chromosome if satisfied\n",
    "#If constraint violated randomly choosing chromosome bits\n",
    "\n",
    "def Constraint_Evaluation(LEN,Chromo,L,K,Deposit):\n",
    "    while(1):\n",
    "        if (1-K)*Deposit <Loan_Total_Sum(LEN,Chromo,L):\n",
    "            Chromo=[]\n",
    "            \n",
    "            for j in range(LEN):\n",
    "                Chromo.append(random.choice([0,1]))\n",
    "        else:\n",
    "            break\n",
    "   \n",
    "    return Chromo"
   ]
  },
  {
   "cell_type": "code",
   "execution_count": 10,
   "metadata": {
    "id": "zQqEo7qJHaE2"
   },
   "outputs": [],
   "source": [
    "#Calling Constraint Check  and modifying Population if constrint is niot satisfied\n",
    "\n",
    "def ImproveChromo(LEN,Population_Size,Population,L,K,Deposit):\n",
    "    i=0\n",
    "    while i<Population_Size:\n",
    "        Population[i] = Constraint_Evaluation(LEN,Population[i],L,K,Deposit)\n",
    "        i+=1\n",
    "    return Population"
   ]
  },
  {
   "cell_type": "code",
   "execution_count": null,
   "metadata": {
    "id": "neLnkjceHaE-"
   },
   "outputs": [],
   "source": []
  },
  {
   "cell_type": "code",
   "execution_count": 11,
   "metadata": {
    "id": "GfI3_WzwHaEq"
   },
   "outputs": [],
   "source": [
    "def FitVal_Func(LEN,rL,  transac_rate_rT, depo_intrst_rate_rD,Deposit,K,L,loss,Population):\n",
    "    FitVals=[]\n",
    "    \n",
    "    for i in range(Population_Size):\n",
    "        FitVals.append(Fitness_Function(LEN,rL,  transac_rate_rT, depo_intrst_rate_rD,Deposit,K,L,  loss,Population[i]))\n",
    "    \n",
    "    return FitVals\n",
    "\n",
    "#Fitness Function [Fx=nu+omega-beta-total_loss_lambda]\n",
    "\n",
    "def Fitness_Function(LEN,rL,  transac_rate_rT, depo_intrst_rate_rD,Deposit,K,L,loss,Chromo):\n",
    "    loss_lambda=0\n",
    "    for i in range(LEN):\n",
    "          loss_lambda+= loss[i]*Chromo[i]\n",
    "    return LR_nu(LEN,rL,L,loss,Chromo)+ TTC_omega(LEN,transac_rate_rT,K,Deposit,L,Chromo)-DD_beta(depo_intrst_rate_rD,Deposit)-  loss_lambda"
   ]
  },
  {
   "cell_type": "code",
   "execution_count": 12,
   "metadata": {
    "id": "5H48gNKLHaFB"
   },
   "outputs": [],
   "source": [
    "def GA_Roulette(Population_Size,FitVals,Population):\n",
    "    prob=[]\n",
    "    P=[]\n",
    "    SUM_Fitness=sum(FitVals)\n",
    "    ctr=0\n",
    "    for i in range(Population_Size):\n",
    "        ctr+=FitVals[i]\n",
    "        prob.append(ctr/SUM_Fitness)\n",
    "\n",
    "    for i in range(Population_Size):\n",
    "        rand_num=random.random()\n",
    "        for j in range(Population_Size):\n",
    "            if rand_num < prob[j]:\n",
    "                P.append(Population[j])\n",
    "                break\n",
    "    return P"
   ]
  },
  {
   "cell_type": "code",
   "execution_count": 13,
   "metadata": {
    "id": "VR_csAN5HaF0"
   },
   "outputs": [],
   "source": [
    "\n",
    "def GA_Mutation(LEN,Population_Size,Mutation_Prob,Parents):\n",
    "    i=0\n",
    "    while i<Population_Size:\n",
    "        for j in range(LEN):\n",
    "            rnd=random.random()\n",
    "            \n",
    "            if rnd < Mutation_Prob:\n",
    "                if Parents[i][j]==1:\n",
    "                    Parents[i][j]=0\n",
    "                else:\n",
    "                    Parents[i][j]=1\n",
    "        i+=1\n",
    "    \n",
    "    return Parents\n",
    "\n",
    "def GA_Crossover(Population_Size,LEN,Parents,Crosover_Prob):\n",
    "    i=0\n",
    "    if Population_Size%2==0:  #if population Size is even\n",
    "        \n",
    "        while(i<Population_Size):\n",
    "            Parents[i],Parents[i+1]=One_Point_Cross(LEN,Parents[i],Parents[i+1],Crosover_Prob)\n",
    "            i+=2\n",
    "        \n",
    "        return Parents\n",
    "   \n",
    "    #if population size is odd\n",
    "    else:\n",
    "       \n",
    "        while(i<Population_Size-1):\n",
    "            Parents[i],Parents[i+1]=One_Point_Cross(LEN,Parents[i],Parents[i+1],Crosover_Prob)\n",
    "            i+=2\n",
    "        return Parents"
   ]
  },
  {
   "cell_type": "code",
   "execution_count": 14,
   "metadata": {
    "id": "oi_E2mX7HaFD"
   },
   "outputs": [],
   "source": [
    "def One_Point_Cross(LEN,P1,P2,Crosover_Prob):\n",
    "    rand_num=random.random()\n",
    "    if rand_num < Crosover_Prob:\n",
    "        C1=[]  #child1\n",
    "        C2=[]  #chid2\n",
    "        Crossover_Point=random.choice([i for i in range(1,LEN)])\n",
    "        #Changing the chromosome bits after crossover point\n",
    "        for j in range(LEN):\n",
    "            if j < Crossover_Point:\n",
    "                C1.append(P1[j])\n",
    "                \n",
    "                C2.append(P2[j])\n",
    "            \n",
    "            else:\n",
    "                C1.append(P2[j])\n",
    "                \n",
    "                C2.append(P1[j])\n",
    "        \n",
    "        return C1,C2\n",
    "    \n",
    "    else:\n",
    "        return P1,P2"
   ]
  },
  {
   "cell_type": "code",
   "execution_count": 15,
   "metadata": {
    "id": "qzMcSLmGHaGQ"
   },
   "outputs": [],
   "source": [
    "def Genetic_Algorithm(LEN,Population_Size,GA_max_Iter,rL,transac_rate_rT, depo_intrst_rate_rD,Deposit,K,L,  loss,Population):\n",
    "    Population=ImproveChromo(LEN,Population_Size,Population,L,K,Deposit)\n",
    "    \n",
    "    #Initialising globest value as 0 and GlobalBest Solution as [].\n",
    "    GBestSol=[]\n",
    "    GBest=0\n",
    "    \n",
    "    for i in range(GA_max_Iter):\n",
    "        #Calculating Fitness Values\n",
    "        \n",
    "        FitVals = FitVal_Func(LEN,rL,  transac_rate_rT, depo_intrst_rate_rD,Deposit,K,L, loss,Population) \n",
    "        \n",
    "        GBest,GBestSol = UpdateGBest(Population,FitVals,GBest,GBestSol)\n",
    "        \n",
    "        #Roulette Wheel Selection and do crossover and mutation\n",
    "       \n",
    "        Population=GA_Roulette(Population_Size,FitVals,Population)\n",
    "        Population=GA_Crossover(Population_Size,LEN,Population,Crosover_Prob)\n",
    "        Population=GA_Mutation(LEN,Population_Size,Mutation_Prob,Population)\n",
    "        \n",
    "        #Changing ChromoSomes according to constraint\n",
    "        Population=ImproveChromo(LEN,Population_Size,Population,L,K,Deposit)\n",
    "    \n",
    "    FitVals=FitVal_Func(LEN,rL,  transac_rate_rT, depo_intrst_rate_rD,Deposit,K,L,  loss,Population)\n",
    "    GBest,GBestSol = UpdateGBest(Population,FitVals,GBest,GBestSol)\n",
    "    \n",
    "    return Population,GBest,GBestSol\n",
    "\n",
    "def UpdateGBest(Population,FitVals,GBest,GBestSol):\n",
    "    Currval=max(FitVals)\n",
    "\n",
    "    #If current solution is better than global solution changing current solution to global solution \n",
    "    \n",
    "    if Currval > GBest:\n",
    "        GBest=Currval\n",
    "        \n",
    "        GBestSol=Population[FitVals.index(max(FitVals))]\n",
    "    \n",
    "    return GBest,GBestSol"
   ]
  },
  {
   "cell_type": "code",
   "execution_count": null,
   "metadata": {
    "id": "j5ymGBfOHaGJ"
   },
   "outputs": [],
   "source": []
  },
  {
   "cell_type": "code",
   "execution_count": 16,
   "metadata": {},
   "outputs": [],
   "source": [
    "e=2.71"
   ]
  },
  {
   "cell_type": "markdown",
   "metadata": {},
   "source": [
    "# To check Results of GA only."
   ]
  },
  {
   "cell_type": "code",
   "execution_count": 17,
   "metadata": {},
   "outputs": [],
   "source": [
    "Population=Population_Initialisation(Population_Size,LEN,L,K,Deposit)"
   ]
  },
  {
   "cell_type": "code",
   "execution_count": 18,
   "metadata": {},
   "outputs": [
    {
     "name": "stdout",
     "output_type": "stream",
     "text": [
      "Bank Profit 2.5934\n",
      "Lending Decision using GA [0, 0, 1, 0, 0, 1, 1, 1, 0, 1]\n"
     ]
    }
   ],
   "source": [
    "Pop,val,sol=Genetic_Algorithm(LEN,Population_Size,GA_max_Iter,rL,transac_rate_rT, depo_intrst_rate_rD,Deposit,K,L,  loss,Population)\n",
    "print('Bank Profit',val)\n",
    "print('Lending Decision using GA',sol)"
   ]
  },
  {
   "cell_type": "markdown",
   "metadata": {},
   "source": [
    "# Amalgamtion of Simulated Annealing and GA"
   ]
  },
  {
   "cell_type": "code",
   "execution_count": 19,
   "metadata": {
    "id": "lF_WnoWjHaGS"
   },
   "outputs": [],
   "source": [
    "def Simulated_Annealing(Initial_Temperature,Cooling_Factor,Current_Temp_Iter,Rejection_Limit,LEN,Population_Size,GA_max_Iter,rL,  transac_rate_rT, depo_intrst_rate_rD,Deposit,K,L,  loss):\n",
    "    \n",
    "    #Setting temperature to initial temperature\n",
    "    Temp=Initial_Temperature\n",
    "    \n",
    "    #Initialising population\n",
    "    Population=Population_Initialisation(Population_Size,LEN,L,K,Deposit)\n",
    "    \n",
    "    GBest=0\n",
    "    GBestSol=[]\n",
    "    #Keeping lowest Temperature as room temperature\n",
    "    while Temp > 25:\n",
    "        Rejection_Ctr=0   #Rejection counter to count number of times the solution rejected\n",
    "        i=0\n",
    "        while i<Current_Temp_Iter:\n",
    "            \n",
    "            New_Pop,CurrentValue,CurrentSol=Genetic_Algorithm(LEN,Population_Size,GA_max_Iter,rL,  transac_rate_rT, depo_intrst_rate_rD,Deposit,K,L,loss,Population)\n",
    "            rand_num=random.random()\n",
    "\n",
    "            #Updating GlobalBest Function Value\n",
    "            if CurrentValue>GBest:\n",
    "                \n",
    "                GBest=CurrentValue\n",
    "                GBestSol=CurrentSol\n",
    "                Population= New_Pop\n",
    "            \n",
    "            #Accepting worse solution\n",
    "            elif rand_num < np.power(e,((GBest-CurrentValue)/Temp)):\n",
    "                Population= New_Pop\n",
    "            \n",
    "            else:\n",
    "                Rejection_Ctr+=1\n",
    "\n",
    "            if Rejection_Ctr==Rejection_Limit:\n",
    "                break\n",
    "            \n",
    "            i+=1\n",
    "        Temp=Cooling_Factor*Temp   #Updating Temperature\n",
    "    \n",
    "    \n",
    "    print('Global Best Function Value or Bank Profit',GBest)\n",
    "    print('Global Best Solution or Lending Decision',GBestSol)"
   ]
  },
  {
   "cell_type": "code",
   "execution_count": 20,
   "metadata": {
    "colab": {
     "base_uri": "https://localhost:8080/"
    },
    "id": "j1eV_ClxHaGZ",
    "outputId": "da8fa402-35d6-459a-ca6f-992d673045c1"
   },
   "outputs": [
    {
     "name": "stdout",
     "output_type": "stream",
     "text": [
      "Global Best Function Value or Bank Profit 3.1854\n",
      "Global Best Solution or Lending Decision [1, 0, 1, 1, 0, 1, 0, 0, 1, 1]\n"
     ]
    }
   ],
   "source": [
    "Simulated_Annealing(Initial_Temperature,Cooling_Factor,Current_Temp_Iter,Rejection_Limit,LEN,Population_Size,GA_max_Iter,rL,transac_rate_rT, depo_intrst_rate_rD,Deposit,K,L,loss)"
   ]
  },
  {
   "cell_type": "code",
   "execution_count": null,
   "metadata": {
    "id": "W1kah5ySHaGl"
   },
   "outputs": [],
   "source": []
  },
  {
   "cell_type": "code",
   "execution_count": 198,
   "metadata": {
    "id": "AXPErYtrHaGm"
   },
   "outputs": [],
   "source": []
  }
 ],
 "metadata": {
  "colab": {
   "name": "OHM_Project_2.ipynb",
   "provenance": []
  },
  "kernelspec": {
   "display_name": "Python 3",
   "language": "python",
   "name": "python3"
  },
  "language_info": {
   "codemirror_mode": {
    "name": "ipython",
    "version": 3
   },
   "file_extension": ".py",
   "mimetype": "text/x-python",
   "name": "python",
   "nbconvert_exporter": "python",
   "pygments_lexer": "ipython3",
   "version": "3.7.4"
  }
 },
 "nbformat": 4,
 "nbformat_minor": 1
}
